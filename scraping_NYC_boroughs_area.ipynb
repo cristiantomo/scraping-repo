{
 "cells": [
  {
   "cell_type": "code",
   "execution_count": 5,
   "metadata": {},
   "outputs": [],
   "source": [
    "from bs4 import BeautifulSoup\n",
    "import json"
   ]
  },
  {
   "cell_type": "markdown",
   "metadata": {},
   "source": [
    "The following script fetch data from a web page using the BeautifulSoup library. Data is taken from Wikipedia and represents the population and geographic values of NYC's boroughs."
   ]
  },
  {
   "cell_type": "markdown",
   "metadata": {},
   "source": [
    "Page: https://en.wikipedia.org/wiki/Boroughs_of_New_York_City"
   ]
  },
  {
   "cell_type": "code",
   "execution_count": 3,
   "metadata": {},
   "outputs": [
    {
     "name": "stdout",
     "output_type": "stream",
     "text": [
      "{'The Bronx': [1471160.0, 28.787, 19570.0, 42.1, 109.04, 34653.0, 13231.0], 'Brooklyn': [2648771.0, 63.303, 23900.0, 70.82, 183.42, 37137.0, 14649.0], 'Manhattan': [1664727.0, 629.682, 378250.0, 22.83, 59.13, 72033.0, 27826.0], 'Queens': [2358582.0, 73.842, 31310.0, 108.53, 281.09, 21460.0, 8354.0], 'Staten Island': [479458.0, 11.249, 23460.0, 58.37, 151.18, 8112.0, 3132.0]}\n"
     ]
    }
   ],
   "source": [
    "def load_html_from_memory():\n",
    "    file_name = \"data/Boroughs_of_New_York_City_Wikipedia.html\"\n",
    "    with open(file_name) as f:\n",
    "        return BeautifulSoup(f, 'html.parser')\n",
    "\n",
    "stock_soup = load_html_from_memory()\n",
    "\n",
    "# get boroughs table from html file\n",
    "table_name = \"wikitable sortable jquery-tablesorter\" # name of table tag found manually\n",
    "boroughs_table = stock_soup.find(\"table\", {\"class\":table_name})\n",
    "    \n",
    "# get boroughs table tags\n",
    "boroughs_table_tags = boroughs_table.find_all()\n",
    "\n",
    "# get boroughs table row tags\n",
    "\n",
    "# table_row_tags_dict: dictionary containing information about the five boroughs of NYC. \n",
    "# the keys of the dictionary are the names of the boroughs, and the values are list of\n",
    "# floats containing the values found in the table of the Wikipedia page. Position 4 of the\n",
    "# list is the Land area of the borough in square km.\n",
    "table_row_tags_dict = {}\n",
    "\n",
    "table_row_values = []\n",
    "number_of_boroughs_scrapped = 0\n",
    "max_number_of_boroughs = 5\n",
    "\n",
    "for tag in boroughs_table_tags:\n",
    "    \n",
    "    # gets table body (where borough values are contained)\n",
    "    if tag.name == \"tbody\": \n",
    "        \n",
    "        # gets rows of the table (in the form of tags)\n",
    "        table_row_tags = tag.find_all()\n",
    "        \n",
    "        # initialize borough name, used as key for adding values to dictionary\n",
    "        current_borough_name = \"\"\n",
    "        \n",
    "        for row_tag in table_row_tags:  \n",
    "            \n",
    "            if \"href\" in row_tag.attrs:\n",
    "                # restarts boroughs values\n",
    "                table_row_values = []\n",
    "                # updates current_borough_name, used as key for the dictionary of boroughs\n",
    "                current_borough_name = row_tag[\"title\"]\n",
    "                # increase number of boroughs that has been scrapped\n",
    "                number_of_boroughs_scrapped += 1\n",
    "                # if 5 boroughs had been added, stops iterating\n",
    "                if number_of_boroughs_scrapped > max_number_of_boroughs:\n",
    "                    break\n",
    "                \n",
    "            if row_tag.name == \"td\" and len(row_tag.attrs.keys()) == 0:\n",
    "                # converts value from string to float\n",
    "                #    - [:-1] is used to removed the las 2 characters of the string: \"\\n\"\n",
    "                #    - replace(\",\", \"\") is used to remove commas from the string\n",
    "                #    - dots (\".\") in the string are not removed. They serve as decimal indicators\n",
    "                formatted_value = float(row_tag.text[:-1].replace(\",\", \"\"))\n",
    "                # adds formatted value to borough list\n",
    "                table_row_values.append(formatted_value)\n",
    "                # adds/updates borough list to borough dictionary (where borough name is the key)\n",
    "                table_row_tags_dict[current_borough_name] = table_row_values\n",
    "\n",
    "print(table_row_tags_dict)    "
   ]
  },
  {
   "cell_type": "code",
   "execution_count": 7,
   "metadata": {},
   "outputs": [],
   "source": [
    "# exports borough data to a json file\n",
    "with open('data/borough_data.json', 'w') as fp:\n",
    "    json.dump(table_row_tags_dict, fp)"
   ]
  }
 ],
 "metadata": {
  "kernelspec": {
   "display_name": "Python 3",
   "language": "python",
   "name": "python3"
  },
  "language_info": {
   "codemirror_mode": {
    "name": "ipython",
    "version": 3
   },
   "file_extension": ".py",
   "mimetype": "text/x-python",
   "name": "python",
   "nbconvert_exporter": "python",
   "pygments_lexer": "ipython3",
   "version": "3.7.3"
  }
 },
 "nbformat": 4,
 "nbformat_minor": 2
}
